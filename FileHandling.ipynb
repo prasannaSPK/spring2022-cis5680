{
 "cells": [
  {
   "cell_type": "markdown",
   "id": "6cf8ebe7",
   "metadata": {},
   "source": [
    "File Handling Using Python"
   ]
  },
  {
   "cell_type": "raw",
   "id": "5a8d9b0e",
   "metadata": {},
   "source": [
    "1.Create New Directory"
   ]
  },
  {
   "cell_type": "code",
   "execution_count": null,
   "id": "1c56eaf3",
   "metadata": {},
   "outputs": [],
   "source": [
    "import os\n",
    "os.mkdir('Lab-2')"
   ]
  },
  {
   "cell_type": "code",
   "execution_count": null,
   "id": "352f3c39",
   "metadata": {},
   "outputs": [],
   "source": [
    "os.chdir('Lab-2')"
   ]
  },
  {
   "cell_type": "raw",
   "id": "c93abf45",
   "metadata": {},
   "source": [
    "2.Creating New file twinkle.txt"
   ]
  },
  {
   "cell_type": "code",
   "execution_count": 6,
   "id": "e5668099",
   "metadata": {},
   "outputs": [],
   "source": [
    "f = open('twinkle.txt','a')\n",
    "data1 = 'Twinkle, twinkle, little star,'\n",
    "f.write(data1)\n",
    "f.close()"
   ]
  },
  {
   "cell_type": "raw",
   "id": "4e855b3e",
   "metadata": {},
   "source": [
    "3.Append new lines to file"
   ]
  },
  {
   "cell_type": "code",
   "execution_count": 10,
   "id": "5898bb6a",
   "metadata": {},
   "outputs": [],
   "source": [
    "f = open('twinkle.txt','a')\n",
    "data2 = '\\nHow I wonder what you are!\\n'\n",
    "f.write(data2)\n",
    "f.close()"
   ]
  },
  {
   "cell_type": "markdown",
   "id": "64a38d55",
   "metadata": {},
   "source": [
    "4.Append Multiple Lines to file : we use 2 colons ''' remaining same"
   ]
  },
  {
   "cell_type": "code",
   "execution_count": 11,
   "id": "effbcd08",
   "metadata": {},
   "outputs": [],
   "source": [
    "f = open('twinkle.txt','a')\n",
    "data3 = '''\n",
    "Up above the world so high,\n",
    "Like a diamond in the sky.\n",
    "\n",
    "When the blazing sun is gone,\n",
    "When he nothing shines upon,\n",
    "Then you show your little light,\n",
    "Twinkle, twinkle, all the night.\n",
    "\n",
    "Then the traveler in the dark\n",
    "Thanks you for your tiny spark,\n",
    "How could he see where to go,\n",
    "If you did not twinkle so?\n",
    "\n",
    "In the dark blue sky you keep,\n",
    "Often through my curtains peep\n",
    "For you never shut your eye,\n",
    "Till the sun is in the sky.\n",
    "\n",
    "As your bright and tiny spark\n",
    "Lights the traveler in the dark,\n",
    "Though I know not what you are,\n",
    "Twinkle, twinkle, little star.\n",
    "'''\n",
    "f.write(data3)\n",
    "f.close()"
   ]
  },
  {
   "cell_type": "markdown",
   "id": "a92c84b6",
   "metadata": {},
   "source": [
    "5.Read a file "
   ]
  },
  {
   "cell_type": "code",
   "execution_count": 14,
   "id": "bbc693f0",
   "metadata": {},
   "outputs": [],
   "source": [
    "f = open('twinkle.txt','r')\n",
    "f.read()\n",
    "f.close()"
   ]
  },
  {
   "cell_type": "code",
   "execution_count": null,
   "id": "ccd6ce77",
   "metadata": {},
   "outputs": [],
   "source": [
    "6.Read file neatly"
   ]
  },
  {
   "cell_type": "code",
   "execution_count": null,
   "id": "9c34ab02",
   "metadata": {},
   "outputs": [],
   "source": [
    "f = open('twinkle.txt','r')\n",
    "print(f.read())"
   ]
  },
  {
   "cell_type": "raw",
   "id": "310918ab",
   "metadata": {},
   "source": [
    "7.Read first 50 characters."
   ]
  },
  {
   "cell_type": "code",
   "execution_count": 16,
   "id": "e7871831",
   "metadata": {},
   "outputs": [
    {
     "name": "stdout",
     "output_type": "stream",
     "text": [
      "Twinkle, twinkle, little star,\n",
      "\n",
      "How I wonder what \n"
     ]
    }
   ],
   "source": [
    "f = open('twinkle.txt','r')\n",
    "print(f.read(50))\n",
    "f.close()\n"
   ]
  },
  {
   "cell_type": "markdown",
   "id": "dc156d2d",
   "metadata": {},
   "source": [
    "# 8.Read 5th line from the file : just use readline"
   ]
  },
  {
   "cell_type": "code",
   "execution_count": 17,
   "id": "1a576730",
   "metadata": {},
   "outputs": [
    {
     "name": "stdout",
     "output_type": "stream",
     "text": [
      "Twink\n"
     ]
    }
   ],
   "source": [
    "f = open('twinkle.txt','r')\n",
    "print(f.readline(5))\n",
    "f.close()"
   ]
  },
  {
   "cell_type": "markdown",
   "id": "e7f9adf9",
   "metadata": {},
   "source": [
    "# Read lines"
   ]
  },
  {
   "cell_type": "code",
   "execution_count": 18,
   "id": "bdbe55b3",
   "metadata": {},
   "outputs": [
    {
     "name": "stdout",
     "output_type": "stream",
     "text": [
      "['Twinkle, twinkle, little star,\\n', '\\n', 'How I wonder what you are!\\n', '\\n', 'Up above the world so high,\\n', 'Like a diamond in the sky.\\n', '\\n', 'When the blazing sun is gone,\\n', 'When he nothing shines upon,\\n', 'Then you show your little light,\\n', 'Twinkle, twinkle, all the night.\\n', '\\n', 'Then the traveler in the dark\\n', 'Thanks you for your tiny spark,\\n', 'How could he see where to go,\\n', 'If you did not twinkle so?\\n', '\\n', 'In the dark blue sky you keep,\\n', 'Often through my curtains peep\\n', 'For you never shut your eye,\\n', 'Till the sun is in the sky.\\n', '\\n', 'As your bright and tiny spark\\n', 'Lights the traveler in the dark,\\n', 'Though I know not what you are,\\n', 'Twinkle, twinkle, little star.\\n']\n"
     ]
    }
   ],
   "source": [
    "f = open('twinkle.txt','r')\n",
    "print(f.readlines())\n",
    "f.close()"
   ]
  },
  {
   "cell_type": "markdown",
   "id": "c6956158",
   "metadata": {},
   "source": [
    "# get working directory"
   ]
  },
  {
   "cell_type": "code",
   "execution_count": 19,
   "id": "4b2682bd",
   "metadata": {},
   "outputs": [
    {
     "data": {
      "text/plain": [
       "'/home/ec2-user/SageMaker/spring2022-cis5680/Lab-2'"
      ]
     },
     "execution_count": 19,
     "metadata": {},
     "output_type": "execute_result"
    }
   ],
   "source": [
    "import os\n",
    "os.getcwd()"
   ]
  },
  {
   "cell_type": "code",
   "execution_count": null,
   "id": "b1037298",
   "metadata": {},
   "outputs": [],
   "source": []
  }
 ],
 "metadata": {
  "kernelspec": {
   "display_name": "conda_python3",
   "language": "python",
   "name": "conda_python3"
  },
  "language_info": {
   "codemirror_mode": {
    "name": "ipython",
    "version": 3
   },
   "file_extension": ".py",
   "mimetype": "text/x-python",
   "name": "python",
   "nbconvert_exporter": "python",
   "pygments_lexer": "ipython3",
   "version": "3.6.13"
  }
 },
 "nbformat": 4,
 "nbformat_minor": 5
}
