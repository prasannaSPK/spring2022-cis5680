{
 "cells": [
  {
   "cell_type": "markdown",
   "id": "19ff991b",
   "metadata": {},
   "source": [
    "# Some Examples for python tutorials from W3 schools."
   ]
  },
  {
   "cell_type": "code",
   "execution_count": null,
   "id": "a76404d2",
   "metadata": {},
   "outputs": [],
   "source": [
    "#Following examples are code from w3 schools"
   ]
  },
  {
   "cell_type": "markdown",
   "id": "73fa379d",
   "metadata": {},
   "source": [
    "Example 1-python list"
   ]
  },
  {
   "cell_type": "code",
   "execution_count": 1,
   "id": "5cc01020",
   "metadata": {},
   "outputs": [
    {
     "name": "stdout",
     "output_type": "stream",
     "text": [
      "['apple', 'banana', 'cherry']\n"
     ]
    }
   ],
   "source": [
    "thislist = [\"apple\", \"banana\", \"cherry\"]\n",
    "print(thislist)"
   ]
  },
  {
   "cell_type": "markdown",
   "id": "f0c391c7",
   "metadata": {},
   "source": [
    "Example -2 -IF"
   ]
  },
  {
   "cell_type": "code",
   "execution_count": 2,
   "id": "b72d42d0",
   "metadata": {},
   "outputs": [
    {
     "name": "stdout",
     "output_type": "stream",
     "text": [
      "b is greater than a\n"
     ]
    }
   ],
   "source": [
    "a = 33\n",
    "b = 200\n",
    "if b > a:\n",
    "  print(\"b is greater than a\")"
   ]
  },
  {
   "cell_type": "raw",
   "id": "12ea06c8",
   "metadata": {},
   "source": [
    "Example - 3: math plot"
   ]
  },
  {
   "cell_type": "code",
   "execution_count": 3,
   "id": "5f6c12ff",
   "metadata": {},
   "outputs": [
    {
     "data": {
      "image/png": "[encoded data removed]",
      "text/plain": [
       "<Figure size 432x288 with 1 Axes>"
      ]
     },
     "metadata": {
      "needs_background": "light"
     },
     "output_type": "display_data"
    }
   ],
   "source": [
    "import matplotlib.pyplot as plt\n",
    "import numpy as np\n",
    "\n",
    "x = np.array([\"A\", \"B\", \"C\", \"D\"])\n",
    "y = np.array([3, 8, 1, 10])\n",
    "\n",
    "plt.bar(x,y)\n",
    "plt.show()"
   ]
  },
  {
   "cell_type": "code",
   "execution_count": null,
   "id": "1b50feca",
   "metadata": {},
   "outputs": [],
   "source": [
    "# beautiful isn't it..you can write what ever comments you can."
   ]
  }
 ],
 "metadata": {
  "kernelspec": {
   "display_name": "conda_python3",
   "language": "python",
   "name": "conda_python3"
  },
  "language_info": {
   "codemirror_mode": {
    "name": "ipython",
    "version": 3
   },
   "file_extension": ".py",
   "mimetype": "text/x-python",
   "name": "python",
   "nbconvert_exporter": "python",
   "pygments_lexer": "ipython3",
   "version": "3.6.13"
  }
 },
 "nbformat": 4,
 "nbformat_minor": 5
}
