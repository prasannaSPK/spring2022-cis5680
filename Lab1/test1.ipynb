{
 "cells": [
  {
   "cell_type": "markdown",
   "id": "91dd9c3e",
   "metadata": {},
   "source": [
    "# First Test Notebook"
   ]
  },
  {
   "cell_type": "markdown",
   "id": "9fd06b4a",
   "metadata": {},
   "source": [
    "### By SAI PRASANNA KUMAR K"
   ]
  },
  {
   "cell_type": "code",
   "execution_count": null,
   "id": "147e692b",
   "metadata": {},
   "outputs": [],
   "source": [
    "First Python Code"
   ]
  },
  {
   "cell_type": "code",
   "execution_count": 1,
   "id": "a85a161e",
   "metadata": {},
   "outputs": [
    {
     "name": "stdout",
     "output_type": "stream",
     "text": [
      "Hello everyone, welcome you to attend cis5680\n"
     ]
    }
   ],
   "source": [
    "print(\"Hello everyone, welcome you to attend cis5680\")"
   ]
  },
  {
   "cell_type": "code",
   "execution_count": null,
   "id": "f7b8bc28",
   "metadata": {},
   "outputs": [],
   "source": [
    "print(\"learning Notebook is fun\")"
   ]
  }
 ],
 "metadata": {
  "kernelspec": {
   "display_name": "conda_amazonei_tensorflow_p36",
   "language": "python",
   "name": "conda_amazonei_tensorflow_p36"
  },
  "language_info": {
   "codemirror_mode": {
    "name": "ipython",
    "version": 3
   },
   "file_extension": ".py",
   "mimetype": "text/x-python",
   "name": "python",
   "nbconvert_exporter": "python",
   "pygments_lexer": "ipython3",
   "version": "3.6.10"
  }
 },
 "nbformat": 4,
 "nbformat_minor": 5
}
