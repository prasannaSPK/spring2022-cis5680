{
 "cells": [
  {
   "cell_type": "markdown",
   "id": "27c5fd7c",
   "metadata": {},
   "source": [
    "# First Test Notebook"
   ]
  },
  {
   "cell_type": "markdown",
   "id": "3b8ebce5",
   "metadata": {},
   "source": [
    "### By SAI PRASANNA KUMAR K"
   ]
  },
  {
   "cell_type": "code",
   "execution_count": null,
   "id": "4fa66015",
   "metadata": {},
   "outputs": [],
   "source": [
    "First Python Code"
   ]
  },
  {
   "cell_type": "code",
   "execution_count": 1,
   "id": "dc74fe56",
   "metadata": {},
   "outputs": [
    {
     "name": "stdout",
     "output_type": "stream",
     "text": [
      "Hello everyone, welcome you to attend cis5680\n"
     ]
    }
   ],
   "source": [
    "print(\"Hello everyone, welcome you to attend cis5680\")"
   ]
  },
  {
   "cell_type": "code",
   "execution_count": null,
   "id": "86e564d0",
   "metadata": {},
   "outputs": [],
   "source": []
  }
 ],
 "metadata": {
  "kernelspec": {
   "display_name": "conda_amazonei_tensorflow_p36",
   "language": "python",
   "name": "conda_amazonei_tensorflow_p36"
  },
  "language_info": {
   "codemirror_mode": {
    "name": "ipython",
    "version": 3
   },
   "file_extension": ".py",
   "mimetype": "text/x-python",
   "name": "python",
   "nbconvert_exporter": "python",
   "pygments_lexer": "ipython3",
   "version": "3.6.10"
  }
 },
 "nbformat": 4,
 "nbformat_minor": 5
}
