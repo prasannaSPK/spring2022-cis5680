{
 "cells": [
  {
   "cell_type": "markdown",
   "id": "c3dcc940",
   "metadata": {},
   "source": [
    "# First Test Notebook"
   ]
  },
  {
   "cell_type": "markdown",
   "id": "bc2cc5a4",
   "metadata": {},
   "source": [
    "### By SAI PRASANNA KUMAR K"
   ]
  },
  {
   "cell_type": "code",
   "execution_count": null,
   "id": "0f6cc478",
   "metadata": {},
   "outputs": [],
   "source": [
    "First Python Code"
   ]
  },
  {
   "cell_type": "code",
   "execution_count": 1,
   "id": "a80b6e7f",
   "metadata": {},
   "outputs": [
    {
     "name": "stdout",
     "output_type": "stream",
     "text": [
      "Hello everyone, welcome you to attend cis5680\n"
     ]
    }
   ],
   "source": [
    "print(\"Hello everyone, welcome you to attend cis5680\")"
   ]
  },
  {
   "cell_type": "code",
   "execution_count": 2,
   "id": "fb59c13c",
   "metadata": {},
   "outputs": [
    {
     "name": "stdout",
     "output_type": "stream",
     "text": [
      "learning Notebook is fun\n"
     ]
    }
   ],
   "source": [
    "print(\"learning Notebook is fun\")"
   ]
  },
  {
   "cell_type": "code",
   "execution_count": null,
   "id": "4984df7e",
   "metadata": {},
   "outputs": [],
   "source": []
  }
 ],
 "metadata": {
  "kernelspec": {
   "display_name": "conda_amazonei_tensorflow_p36",
   "language": "python",
   "name": "conda_amazonei_tensorflow_p36"
  },
  "language_info": {
   "codemirror_mode": {
    "name": "ipython",
    "version": 3
   },
   "file_extension": ".py",
   "mimetype": "text/x-python",
   "name": "python",
   "nbconvert_exporter": "python",
   "pygments_lexer": "ipython3",
   "version": "3.6.10"
  }
 },
 "nbformat": 4,
 "nbformat_minor": 5
}
